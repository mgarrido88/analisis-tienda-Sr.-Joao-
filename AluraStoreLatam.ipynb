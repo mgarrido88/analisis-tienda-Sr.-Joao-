{
  "nbformat": 4,
  "nbformat_minor": 0,
  "metadata": {
    "colab": {
      "provenance": []
    },
    "kernelspec": {
      "name": "python3",
      "display_name": "Python 3"
    },
    "language_info": {
      "name": "python"
    }
  },
  "cells": [
    {
      "cell_type": "markdown",
      "source": [
        "### Importación de datos\n",
        "\n"
      ],
      "metadata": {
        "id": "RhEdWd9YUR6H"
      }
    },
    {
      "cell_type": "code",
      "source": [
        "import pandas as pd\n",
        "import matplotlib.pyplot as plt\n",
        "\n",
        "# Cargar los datos desde las URLs\n",
        "url1 = \"https://raw.githubusercontent.com/alura-es-cursos/challenge1-data-science-latam/refs/heads/main/base-de-datos-challenge1-latam/tienda_1%20.csv\"\n",
        "url2 = \"https://raw.githubusercontent.com/alura-es-cursos/challenge1-data-science-latam/refs/heads/main/base-de-datos-challenge1-latam/tienda_2.csv\"\n",
        "url3 = \"https://raw.githubusercontent.com/alura-es-cursos/challenge1-data-science-latam/refs/heads/main/base-de-datos-challenge1-latam/tienda_3.csv\"\n",
        "url4 = \"https://raw.githubusercontent.com/alura-es-cursos/challenge1-data-science-latam/refs/heads/main/base-de-datos-challenge1-latam/tienda_4.csv\"\n"
      ],
      "metadata": {
        "id": "TBLuOzMl9-ZB"
      },
      "execution_count": 11,
      "outputs": []
    },
    {
      "cell_type": "code",
      "source": [
        "tienda1 = pd.read_csv(url1)\n",
        "tienda2 = pd.read_csv(url2)\n",
        "tienda3 = pd.read_csv(url3)\n",
        "tienda4 = pd.read_csv(url4)"
      ],
      "metadata": {
        "id": "D570DwE-CW4-"
      },
      "execution_count": 12,
      "outputs": []
    },
    {
      "cell_type": "code",
      "source": [
        "tienda1[\"tienda\"] = \"Tienda 1\"\n",
        "tienda2[\"tienda\"] = \"Tienda 2\"\n",
        "tienda3[\"tienda\"] = \"Tienda 3\"\n",
        "tienda4[\"tienda\"] = \"Tienda 4\""
      ],
      "metadata": {
        "id": "Jl4j8nOnCcDw"
      },
      "execution_count": 13,
      "outputs": []
    },
    {
      "cell_type": "code",
      "source": [
        "df_total = pd.concat([tienda1, tienda2, tienda3, tienda4], ignore_index=True)"
      ],
      "metadata": {
        "id": "_I-uoUrtBzHP"
      },
      "execution_count": 20,
      "outputs": []
    },
    {
      "cell_type": "code",
      "source": [
        "print(df_total.columns)"
      ],
      "metadata": {
        "colab": {
          "base_uri": "https://localhost:8080/"
        },
        "id": "tYNNTbE9CPxU",
        "outputId": "2b76d66f-1f18-4973-a0e0-92af77cdbe5d"
      },
      "execution_count": 21,
      "outputs": [
        {
          "output_type": "stream",
          "name": "stdout",
          "text": [
            "Index(['Producto', 'Categoría del Producto', 'Precio', 'Costo de envío',\n",
            "       'Fecha de Compra', 'Vendedor', 'Lugar de Compra', 'Calificación',\n",
            "       'Método de pago', 'Cantidad de cuotas', 'lat', 'lon', 'tienda'],\n",
            "      dtype='object')\n"
          ]
        }
      ]
    },
    {
      "cell_type": "code",
      "source": [
        "df_total[\"Precio\"] = pd.to_numeric(df_total[\"Precio\"], errors=\"coerce\")"
      ],
      "metadata": {
        "id": "7se7WLSNH3vf"
      },
      "execution_count": 22,
      "outputs": []
    },
    {
      "cell_type": "code",
      "source": [
        "ventas_por_tienda = df_total.groupby(\"tienda\")[\"Precio\"].sum().sort_values()"
      ],
      "metadata": {
        "id": "ab4_OeALH3nz"
      },
      "execution_count": 23,
      "outputs": []
    },
    {
      "cell_type": "code",
      "source": [
        "print(\"Ventas totales por tienda:\")\n",
        "print(ventas_por_tienda)"
      ],
      "metadata": {
        "colab": {
          "base_uri": "https://localhost:8080/"
        },
        "id": "mZB8i5rhH3fe",
        "outputId": "4852c00b-f202-45d6-fa45-822a5f9642b3"
      },
      "execution_count": 24,
      "outputs": [
        {
          "output_type": "stream",
          "name": "stdout",
          "text": [
            "Ventas totales por tienda:\n",
            "tienda\n",
            "Tienda 4    1.038376e+09\n",
            "Tienda 3    1.098020e+09\n",
            "Tienda 2    1.116344e+09\n",
            "Tienda 1    1.150880e+09\n",
            "Name: Precio, dtype: float64\n"
          ]
        }
      ]
    },
    {
      "cell_type": "code",
      "source": [
        "tienda_menor_venta = ventas_por_tienda.idxmin()\n",
        "total_menor_venta = ventas_por_tienda.min()"
      ],
      "metadata": {
        "id": "DgwDyr2nH3Nr"
      },
      "execution_count": 25,
      "outputs": []
    },
    {
      "cell_type": "markdown",
      "source": [
        "# 1. Análisis de facturación"
      ],
      "metadata": {
        "id": "2V_vcAPzWZmR"
      }
    },
    {
      "cell_type": "code",
      "source": [
        "print(f\"\\n📉 La tienda que menos factura es: **{tienda_menor_venta}**, con un total de ${total_menor_venta:,.2f}\")"
      ],
      "metadata": {
        "colab": {
          "base_uri": "https://localhost:8080/"
        },
        "id": "tjKpmeAqIi6j",
        "outputId": "36f4fd22-9971-4207-8d7b-f04adb25897a"
      },
      "execution_count": 26,
      "outputs": [
        {
          "output_type": "stream",
          "name": "stdout",
          "text": [
            "\n",
            "📉 La tienda que menos factura es: **Tienda 4**, con un total de $1,038,375,700.00\n"
          ]
        }
      ]
    },
    {
      "cell_type": "markdown",
      "source": [
        "# 2. Ventas por categoría"
      ],
      "metadata": {
        "id": "roUMUA1RJvKq"
      }
    },
    {
      "cell_type": "code",
      "source": [
        "df[\"Precio\"] = pd.to_numeric(df[\"Precio\"], errors=\"coerce\")\n",
        "df[\"Producto\"] = df[\"Producto\"].astype(str)"
      ],
      "metadata": {
        "id": "yZR6cOjXYSk1"
      },
      "execution_count": 28,
      "outputs": []
    },
    {
      "cell_type": "code",
      "source": [
        "ventas_categoria = df.groupby(\"Producto\")[\"Precio\"].sum().sort_values(ascending=False)"
      ],
      "metadata": {
        "id": "iFQChYtCKp10"
      },
      "execution_count": 29,
      "outputs": []
    },
    {
      "cell_type": "code",
      "source": [
        "print(\"🔍 Ventas totales por categoría de producto:\")\n",
        "print(ventas_categoria)"
      ],
      "metadata": {
        "colab": {
          "base_uri": "https://localhost:8080/"
        },
        "id": "zt-SQFLSKqva",
        "outputId": "1077db26-1091-441a-c2e6-4036c3729d06"
      },
      "execution_count": 30,
      "outputs": [
        {
          "output_type": "stream",
          "name": "stdout",
          "text": [
            "🔍 Ventas totales por categoría de producto:\n",
            "Producto\n",
            "TV LED UHD 4K                  432489600.0\n",
            "Iphone 15                      401051200.0\n",
            "Refrigerador                   384937400.0\n",
            "Smart TV                       290221800.0\n",
            "Lavadora de ropa               242468600.0\n",
            "Lavavajillas                   240536500.0\n",
            "Tablet ABXY                    219012800.0\n",
            "Secadora de ropa               210238000.0\n",
            "Celular ABXY                   157911100.0\n",
            "Batería                        147806300.0\n",
            "Cama king                      135780400.0\n",
            "Estufa                         130871100.0\n",
            "Guitarra eléctrica             129404800.0\n",
            "Sofá reclinable                123279100.0\n",
            "Microondas                     115699500.0\n",
            "Cama box                       104097800.0\n",
            "Bicicleta                       96487500.0\n",
            "Armario                         96245800.0\n",
            "Silla de oficina                69099000.0\n",
            "Guitarra acústica               58898100.0\n",
            "Mesa de noche                   58419500.0\n",
            "Impresora                       56227300.0\n",
            "Kit de bancas                   53284900.0\n",
            "Mesa de comedor                 46815700.0\n",
            "Sillón                          40796800.0\n",
            "Asistente virtual               34468100.0\n",
            "Juego de mesa                   32451800.0\n",
            "Set de ollas                    30506400.0\n",
            "Smartwatch                      29929800.0\n",
            "Mesa de centro                  29842000.0\n",
            "Auriculares con micrófono       22748500.0\n",
            "Auriculares                     16516300.0\n",
            "Mochila                         16065700.0\n",
            "Carrito de control remoto       14767700.0\n",
            "Olla de presión                 12928800.0\n",
            "Pandereta                       12663400.0\n",
            "Modelado predictivo             12616100.0\n",
            "Balón de baloncesto              9759000.0\n",
            "Iniciando en programación        9625500.0\n",
            "Balón de voleibol                9099800.0\n",
            "Ciencia de datos con Python      9036100.0\n",
            "Muñeca bebé                      8591500.0\n",
            "Cubertería                       8560400.0\n",
            "Vaso térmico                     8497400.0\n",
            "Bloques de construcción          6802100.0\n",
            "Dashboards con Power BI          6418400.0\n",
            "Set de vasos                     5584200.0\n",
            "Ajedrez de madera                5149100.0\n",
            "Dinosaurio Rex                   3112900.0\n",
            "Cuerda para saltar               3068300.0\n",
            "Cubo mágico 8x8                  2729300.0\n",
            "Name: Precio, dtype: float64\n"
          ]
        }
      ]
    },
    {
      "cell_type": "code",
      "source": [
        "# Grafico\n",
        "plt.figure(figsize=(10,6))\n",
        "ventas_categoria.head(10).plot(kind=\"bar\", color=\"lightcoral\", edgecolor=\"black\")\n",
        "plt.title(\"Top 10 Categorías por Ventas Totales\")\n",
        "plt.ylabel(\"Ventas ($)\")\n",
        "plt.xlabel(\"Producto\")\n",
        "plt.xticks(rotation=45, ha=\"right\")\n",
        "plt.grid(axis=\"y\", linestyle=\"--\", alpha=0.6)\n",
        "plt.tight_layout()\n",
        "plt.show()"
      ],
      "metadata": {
        "colab": {
          "base_uri": "https://localhost:8080/",
          "height": 607
        },
        "id": "HfYOzuY4Kprt",
        "outputId": "c3b235f7-1580-4cab-8232-d475eb85d6ab"
      },
      "execution_count": 31,
      "outputs": [
        {
          "output_type": "display_data",
          "data": {
            "text/plain": [
              "<Figure size 1000x600 with 1 Axes>"
            ],
            "image/png": "[encoded data removed]"
          },
          "metadata": {}
        }
      ]
    },
    {
      "cell_type": "code",
      "source": [
        "ventas_tienda_producto = df.groupby([\"tienda\", \"Producto\"])[\"Precio\"].sum().unstack(fill_value=0)"
      ],
      "metadata": {
        "id": "DDo2KAMPKpgm"
      },
      "execution_count": 32,
      "outputs": []
    },
    {
      "cell_type": "code",
      "source": [
        "print(\"Ventas por tienda y categoría:\")\n",
        "print(ventas_tienda_producto)"
      ],
      "metadata": {
        "colab": {
          "base_uri": "https://localhost:8080/"
        },
        "id": "cor4uPE3Lads",
        "outputId": "8e7c5350-562a-4ef2-dd6d-7aeb255f94d1"
      },
      "execution_count": 33,
      "outputs": [
        {
          "output_type": "stream",
          "name": "stdout",
          "text": [
            "Ventas por tienda y categoría:\n",
            "Producto  Ajedrez de madera     Armario  Asistente virtual  Auriculares  \\\n",
            "tienda                                                                    \n",
            "Tienda 1          1430600.0  29462300.0          8058000.0    5043700.0   \n",
            "Tienda 2          1287700.0  26174900.0          7929500.0    3569600.0   \n",
            "Tienda 3          1355300.0  24187200.0          8013300.0    3959400.0   \n",
            "Tienda 4          1075500.0  16421400.0         10467300.0    3943600.0   \n",
            "\n",
            "Producto  Auriculares con micrófono  Balón de baloncesto  Balón de voleibol  \\\n",
            "tienda                                                                        \n",
            "Tienda 1                  4730800.0            2749800.0          2112200.0   \n",
            "Tienda 2                  5644300.0            2091300.0          2289600.0   \n",
            "Tienda 3                  5970500.0            2478100.0          2333800.0   \n",
            "Tienda 4                  6402900.0            2439800.0          2364200.0   \n",
            "\n",
            "Producto     Batería   Bicicleta  Bloques de construcción  ...  Set de ollas  \\\n",
            "tienda                                                     ...                 \n",
            "Tienda 1  37693900.0  27444600.0                1865700.0  ...     6307700.0   \n",
            "Tienda 2  46175300.0  22958300.0                1789400.0  ...     7964400.0   \n",
            "Tienda 3  29369200.0  24654800.0                1237200.0  ...     8696500.0   \n",
            "Tienda 4  34567900.0  21429800.0                1909800.0  ...     7537800.0   \n",
            "\n",
            "Producto  Set de vasos  Silla de oficina      Sillón    Smart TV  Smartwatch  \\\n",
            "tienda                                                                         \n",
            "Tienda 1     1359100.0        17667300.0   9879200.0  67452100.0   7452400.0   \n",
            "Tienda 2     1542600.0        18530000.0   8413500.0  61142000.0   7680900.0   \n",
            "Tienda 3     1210700.0        18376300.0  11333600.0  78837300.0   8022100.0   \n",
            "Tienda 4     1471800.0        14525400.0  11170500.0  82790400.0   6774400.0   \n",
            "\n",
            "Producto  Sofá reclinable  TV LED UHD 4K  Tablet ABXY  Vaso térmico  \n",
            "tienda                                                               \n",
            "Tienda 1       31379400.0    142150200.0   47639800.0     2463400.0  \n",
            "Tienda 2       29489200.0    103375000.0   56209800.0     2155900.0  \n",
            "Tienda 3       30319800.0     96669100.0   58440100.0     1725600.0  \n",
            "Tienda 4       32090700.0     90295300.0   56723100.0     2152500.0  \n",
            "\n",
            "[4 rows x 51 columns]\n"
          ]
        }
      ]
    },
    {
      "cell_type": "code",
      "source": [
        "ventas_por_categoria = df.groupby(\"Producto\")[\"Precio\"].sum().sort_values(ascending=False)"
      ],
      "metadata": {
        "id": "NOENMqBrLZ_8"
      },
      "execution_count": 35,
      "outputs": []
    },
    {
      "cell_type": "code",
      "source": [
        "# Mostrar la más vendida\n",
        "categoria_mas_vendida = ventas_por_categoria.idxmax()\n",
        "monto_mas_vendido = ventas_por_categoria.max()"
      ],
      "metadata": {
        "id": "ZEs4g-4ULZ0B"
      },
      "execution_count": 36,
      "outputs": []
    },
    {
      "cell_type": "code",
      "source": [
        "# Mostrar la menos vendida\n",
        "categoria_menos_vendida = ventas_por_categoria.idxmin()\n",
        "monto_menos_vendido = ventas_por_categoria.min()"
      ],
      "metadata": {
        "id": "nEsnRp6mMImn"
      },
      "execution_count": 37,
      "outputs": []
    },
    {
      "cell_type": "code",
      "source": [
        "print(f\"Categoría más vendida: {categoria_mas_vendida} con un total de ${monto_mas_vendido:,.2f}\")\n",
        "print(f\"Categoría menos vendida: {categoria_menos_vendida} con un total de ${monto_menos_vendido:,.2f}\")"
      ],
      "metadata": {
        "colab": {
          "base_uri": "https://localhost:8080/"
        },
        "id": "BKDxHfULMIb9",
        "outputId": "5b667761-a2d2-48d8-d1c9-5335728ea0b7"
      },
      "execution_count": 38,
      "outputs": [
        {
          "output_type": "stream",
          "name": "stdout",
          "text": [
            "Categoría más vendida: TV LED UHD 4K con un total de $432,489,600.00\n",
            "Categoría menos vendida: Cubo mágico 8x8 con un total de $2,729,300.00\n"
          ]
        }
      ]
    },
    {
      "cell_type": "code",
      "source": [],
      "metadata": {
        "id": "a-mQRaxUKpT4"
      },
      "execution_count": null,
      "outputs": []
    },
    {
      "cell_type": "markdown",
      "source": [
        "# 3. Calificación promedio de la tienda\n"
      ],
      "metadata": {
        "id": "Rq6tU_xSY3jk"
      }
    },
    {
      "cell_type": "code",
      "source": [
        "df[\"Calificación\"] = pd.to_numeric(df[\"Calificación\"], errors=\"coerce\")"
      ],
      "metadata": {
        "id": "bh3jjjJwY5MU"
      },
      "execution_count": 39,
      "outputs": []
    },
    {
      "cell_type": "code",
      "source": [
        "# Calcular promedio de calificaciones por tienda\n",
        "promedio_calificaciones = df.groupby(\"tienda\")[\"Calificación\"].mean().sort_values(ascending=False)"
      ],
      "metadata": {
        "id": "I0KkjPoTY88F"
      },
      "execution_count": 40,
      "outputs": []
    },
    {
      "cell_type": "code",
      "source": [
        "print(\"Promedio de calificaciones por tienda:\")\n",
        "print(promedio_calificaciones.round(2))"
      ],
      "metadata": {
        "colab": {
          "base_uri": "https://localhost:8080/"
        },
        "id": "0guXhxTvM8zJ",
        "outputId": "31c9b392-0180-46b6-e031-1ff0f9b244ce"
      },
      "execution_count": 41,
      "outputs": [
        {
          "output_type": "stream",
          "name": "stdout",
          "text": [
            "Promedio de calificaciones por tienda:\n",
            "tienda\n",
            "Tienda 3    4.05\n",
            "Tienda 2    4.04\n",
            "Tienda 4    4.00\n",
            "Tienda 1    3.98\n",
            "Name: Calificación, dtype: float64\n"
          ]
        }
      ]
    },
    {
      "cell_type": "code",
      "source": [],
      "metadata": {
        "id": "RgYwYST-M8oa"
      },
      "execution_count": null,
      "outputs": []
    },
    {
      "cell_type": "markdown",
      "source": [
        "# 4. Productos más y menos vendidos"
      ],
      "metadata": {
        "id": "DmNp1KPBZCm-"
      }
    },
    {
      "cell_type": "code",
      "source": [
        "# Categoría más vendida: TV LED UHD 4K con un total de $432,489,600.00\n",
        "# Categoría menos vendida: Cubo mágico 8x8 con un total de $2,729,300.00\n"
      ],
      "metadata": {
        "id": "0Sw3sd4IZIGW"
      },
      "execution_count": null,
      "outputs": []
    },
    {
      "cell_type": "markdown",
      "source": [
        "# 5. Envío promedio por tienda"
      ],
      "metadata": {
        "id": "Fl0cGi3bZKqU"
      }
    },
    {
      "cell_type": "code",
      "source": [
        "df[\"Costo de envío\"] = pd.to_numeric(df[\"Costo de envío\"], errors=\"coerce\")"
      ],
      "metadata": {
        "id": "0tSdCie9ZQlt"
      },
      "execution_count": 45,
      "outputs": []
    },
    {
      "cell_type": "code",
      "source": [
        "envio_promedio = df.groupby(\"tienda\")[\"Costo de envío\"].mean().round(2).sort_values()"
      ],
      "metadata": {
        "id": "pP6rupCBOyLy"
      },
      "execution_count": 46,
      "outputs": []
    },
    {
      "cell_type": "code",
      "source": [
        "print(\"Costo de envío promedio por tienda:\")\n",
        "print(envio_promedio)"
      ],
      "metadata": {
        "colab": {
          "base_uri": "https://localhost:8080/"
        },
        "id": "9s7rf7DGOyF7",
        "outputId": "b47d159b-2a46-4a45-b8b5-94327d1a9777"
      },
      "execution_count": 47,
      "outputs": [
        {
          "output_type": "stream",
          "name": "stdout",
          "text": [
            "Costo de envío promedio por tienda:\n",
            "tienda\n",
            "Tienda 4    23459.46\n",
            "Tienda 3    24805.68\n",
            "Tienda 2    25216.24\n",
            "Tienda 1    26018.61\n",
            "Name: Costo de envío, dtype: float64\n"
          ]
        }
      ]
    },
    {
      "cell_type": "code",
      "source": [],
      "metadata": {
        "id": "OsEjT-ZfT4nf"
      },
      "execution_count": null,
      "outputs": []
    },
    {
      "cell_type": "code",
      "source": [
        "# Conclusion de análisis: ✅ La Tienda 4 tiene el peor rendimiento en términos de facturación total, ya que: Es la tienda que menos ingresos generó."
      ],
      "metadata": {
        "id": "poo-6fb_Ox9Q"
      },
      "execution_count": null,
      "outputs": []
    }
  ]
}